{
 "cells": [
  {
   "cell_type": "markdown",
   "id": "aded7dc1",
   "metadata": {},
   "source": [
    "Using 1 late day for Homework 3\n",
    "Dongshu Yang\n",
    "4185086243\n",
    "Flu1d1"
   ]
  },
  {
   "cell_type": "markdown",
   "id": "9d212700",
   "metadata": {},
   "source": [
    "1.(b) split training and test dataset"
   ]
  },
  {
   "cell_type": "code",
   "execution_count": 68,
   "id": "d108a505",
   "metadata": {
    "ExecuteTime": {
     "end_time": "2025-03-02T07:31:41.140634Z",
     "start_time": "2025-03-02T07:31:40.964767Z"
    }
   },
   "outputs": [
    {
     "name": "stdout",
     "output_type": "stream",
     "text": [
      "Train and test set are stored in folder splitted datasets\n"
     ]
    }
   ],
   "source": [
    "import os\n",
    "import pandas as pd\n",
    "import re\n",
    "import numpy as np\n",
    "from pathlib import Path\n",
    "from scipy.stats import bootstrap\n",
    "\n",
    "def natural_sort_key(s):\n",
    "    return [int(text) if text.isdigit() else text for text in re.split(r'(\\d+)', s)]\n",
    "\n",
    "source_dir = \"data/AReM\" \n",
    "target_dir = \"data/Splitted datasets\"  \n",
    "os.makedirs(os.path.join(target_dir, \"train\"), exist_ok=True)\n",
    "os.makedirs(os.path.join(target_dir, \"test\"), exist_ok=True)\n",
    "\n",
    "for activity in ['bending1','bending2','cycling','lying','sitting','standing','walking']:\n",
    "    activity_path = os.path.join(source_dir, activity)\n",
    "    files = sorted([f for f in os.listdir(activity_path)], key=natural_sort_key)\n",
    "    test_files = files[:3] if \"bending\" not in activity else files[:2]\n",
    "    train_files = files[len(test_files):]\n",
    "    for file in test_files:\n",
    "        df = pd.read_csv(os.path.join(activity_path, file), skiprows=4, usecols=range(7)) \n",
    "        df.to_csv(os.path.join(target_dir, \"test\", f\"{activity}_{file}\"), index=False)\n",
    "        \n",
    "    for file in train_files:\n",
    "        df = pd.read_csv(os.path.join(activity_path, file), skiprows=4, usecols=range(7))\n",
    "        df.to_csv(os.path.join(target_dir, \"train\", f\"{activity}_{file}\"), index=False)\n",
    "print('Train and test set are stored in folder splitted datasets')"
   ]
  },
  {
   "cell_type": "markdown",
   "id": "f5266a3b",
   "metadata": {},
   "source": [
    "1.(c) feature extraction i. ii."
   ]
  },
  {
   "cell_type": "code",
   "execution_count": 69,
   "id": "2a0fced7",
   "metadata": {
    "ExecuteTime": {
     "end_time": "2025-03-02T07:31:45.029769Z",
     "start_time": "2025-03-02T07:31:44.020046Z"
    }
   },
   "outputs": [
    {
     "name": "stdout",
     "output_type": "stream",
     "text": [
      "all features are stored in test_features.csv and train_features.csv under folder Features extracted\n"
     ]
    }
   ],
   "source": [
    "datasets_dir = \"data/Splitted datasets\"  \n",
    "feature_dir = \"data/Feature extracted\"\n",
    "os.makedirs(feature_dir, exist_ok=True)\n",
    "\n",
    "def extract_features(file_path):\n",
    "    df = pd.read_csv(file_path, usecols=range(7))\n",
    "    features = {}\n",
    "    for col in df.columns:\n",
    "        features[f\"{col}_min\"] = df[col].min()\n",
    "        features[f\"{col}_max\"] = df[col].max()\n",
    "        features[f\"{col}_mean\"] = df[col].mean()\n",
    "        features[f\"{col}_median\"] = df[col].median()\n",
    "        features[f\"{col}_std\"] = df[col].std()\n",
    "        features[f\"{col}_q1\"] = df[col].quantile(0.25)\n",
    "        features[f\"{col}_q3\"] = df[col].quantile(0.75)\n",
    "    feature_df = pd.DataFrame([features])\n",
    "    feature_df.insert(0, \"instance\", os.path.basename(file_path)) \n",
    "    return feature_df\n",
    "\n",
    "for dataset in [\"train\", \"test\"]:\n",
    "    feature_list = []\n",
    "    dataset_path = os.path.join(datasets_dir, dataset)\n",
    "    for file in os.listdir(dataset_path):\n",
    "        if file == \".ipynb_checkpoints\":   #ignore checkpoint folder\n",
    "            continue\n",
    "        file_path = os.path.join(dataset_path, file)\n",
    "        if file == 'bending2_dataset4.csv':    #cleaning bending2_dataset4, which has a wrong form\n",
    "            with open(file_path,\"r\",encoding = 'utf-8') as f:\n",
    "                lines = f.readlines()\n",
    "            title = lines[0].strip()\n",
    "            datas = [line.strip().replace(\" \", \",\") for line in lines[1:]]\n",
    "            with open(file_path, \"w\", encoding=\"utf-8\") as f:\n",
    "                f.write(title + \"\\n\") \n",
    "                f.write(\"\\n\".join(datas)) \n",
    "        feature_list.append(extract_features(file_path))\n",
    "    all_features = pd.concat(feature_list, ignore_index=True)\n",
    "    all_features.to_csv(os.path.join(feature_dir, f\"{dataset}_features.csv\"), index=False)\n",
    "print('all features are stored in test_features.csv and train_features.csv under folder Features extracted')"
   ]
  },
  {
   "cell_type": "markdown",
   "id": "d287c684",
   "metadata": {},
   "source": [
    "1.(c) feature extraction iii. iv."
   ]
  },
  {
   "cell_type": "code",
   "execution_count": 70,
   "id": "731195c7",
   "metadata": {
    "ExecuteTime": {
     "end_time": "2025-03-02T07:31:48.500810Z",
     "start_time": "2025-03-02T07:31:48.400434Z"
    }
   },
   "outputs": [
    {
     "name": "stdout",
     "output_type": "stream",
     "text": [
      "std and bootstrap ci stored in folder feature extracted\n"
     ]
    }
   ],
   "source": [
    "def compute_bootstrap_ci(df, confidence_level=0.90):\n",
    "    ci_results = {}\n",
    "    for col in df.columns[1:]:  \n",
    "        data = df[col].values\n",
    "        std_dev = np.std(data, ddof=1) \n",
    "        res = bootstrap((data,), np.std, confidence_level=confidence_level, n_resamples=1000, method='percentile')\n",
    "        ci_results[col] = {\n",
    "            \"std\": std_dev,\n",
    "            \"ci_lower\": res.confidence_interval.low,\n",
    "            \"ci_upper\": res.confidence_interval.high\n",
    "        }\n",
    "    return pd.DataFrame(ci_results).T\n",
    "\n",
    "train_features = pd.read_csv(os.path.join(feature_dir, \"train_features.csv\"))\n",
    "test_features = pd.read_csv(os.path.join(feature_dir, \"test_features.csv\"))\n",
    "train_ci = compute_bootstrap_ci(train_features)\n",
    "test_ci = compute_bootstrap_ci(test_features)\n",
    "train_ci.to_csv(os.path.join(feature_dir, \"train_std_ci.csv\"))\n",
    "test_ci.to_csv(os.path.join(feature_dir, \"test_std_ci.csv\"))\n",
    "\n",
    "# choosing features(min, mean, max)\n",
    "important_features = [\"min\", \"mean\", \"max\"]\n",
    "selected_features = [col for col in train_features.columns if any(feature in col for feature in important_features)]\n",
    "train_selected = train_features[[\"instance\"] + selected_features]\n",
    "test_selected = test_features[[\"instance\"] + selected_features]\n",
    "train_selected.to_csv(os.path.join(feature_dir, \"train_selected_features.csv\"), index=False)\n",
    "test_selected.to_csv(os.path.join(feature_dir, \"test_selected_features.csv\"), index=False)\n",
    "\n",
    "print(\"std and bootstrap ci stored in folder feature extracted\")\n"
   ]
  },
  {
   "cell_type": "markdown",
   "id": "777488cd",
   "metadata": {},
   "source": [
    "ISLR 3.7.4\n",
    "I collect a set of data (n = 100 observations) containing a single predictor and a quantitative response. I then fit a linear regression model to the data, as well as a separate cubic regression, i.e. Y=β0+β1X+β2X2+β2X3+ϵ.\n",
    "\n",
    "(a)\n",
    "Suppose that the true relationship between X and Y is linear, i.e. Y=β0+β1X+ϵ. Consider the training residual sum of squares (RSS)for the linear regression, and also the training RSS for the cubic regression. Would we expect one to be lower than the other, would we expect them to be the same, or is there not enough information to tell? Justify your answer.\n",
    "\n",
    "Because the true distribution is linear, then linear regression has a lower RSS.\n",
    "\n",
    "(b)\n",
    "Answer (a) using test rather than training RSS.\n",
    "\n",
    "Linear regression is expected to perform better in both test and training data.\n",
    "\n",
    "(c)\n",
    "Suppose that the true relationship between X and Y is not linear, but we don’t know how far it is from linear. Consider the training RSS for the linear regression, and also the training RSS for the cubic regression. Would we expect one to be lower than the other, would we expect them to be the same, or is there not enough information to tell? Justify your answer.\n",
    "\n",
    "In this case cubic regression will be better.\n",
    "\n",
    "(d) Answer (c) using test rather than training RSS.\n",
    "\n",
    "We'll need exact data to see which is better. Because maybe it's only a little far from linear in that case linear will be better."
   ]
  }
 ],
 "metadata": {
  "kernelspec": {
   "display_name": "Python 3 (ipykernel)",
   "language": "python",
   "name": "python3"
  },
  "language_info": {
   "codemirror_mode": {
    "name": "ipython",
    "version": 3
   },
   "file_extension": ".py",
   "mimetype": "text/x-python",
   "name": "python",
   "nbconvert_exporter": "python",
   "pygments_lexer": "ipython3",
   "version": "3.12.3"
  },
  "toc": {
   "base_numbering": 1,
   "nav_menu": {},
   "number_sections": true,
   "sideBar": true,
   "skip_h1_title": false,
   "title_cell": "Table of Contents",
   "title_sidebar": "Contents",
   "toc_cell": false,
   "toc_position": {
    "height": "calc(100% - 180px)",
    "left": "10px",
    "top": "150px",
    "width": "346.349px"
   },
   "toc_section_display": true,
   "toc_window_display": false
  },
  "varInspector": {
   "cols": {
    "lenName": 16,
    "lenType": 16,
    "lenVar": 40
   },
   "kernels_config": {
    "python": {
     "delete_cmd_postfix": "",
     "delete_cmd_prefix": "del ",
     "library": "var_list.py",
     "varRefreshCmd": "print(var_dic_list())"
    },
    "r": {
     "delete_cmd_postfix": ") ",
     "delete_cmd_prefix": "rm(",
     "library": "var_list.r",
     "varRefreshCmd": "cat(var_dic_list()) "
    }
   },
   "types_to_exclude": [
    "module",
    "function",
    "builtin_function_or_method",
    "instance",
    "_Feature"
   ],
   "window_display": false
  }
 },
 "nbformat": 4,
 "nbformat_minor": 5
}
