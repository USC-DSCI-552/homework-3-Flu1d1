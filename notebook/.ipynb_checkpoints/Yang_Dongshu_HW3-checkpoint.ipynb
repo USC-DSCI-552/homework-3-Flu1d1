{
 "cells": [
  {
   "cell_type": "code",
   "execution_count": null,
   "id": "d108a505",
   "metadata": {},
   "outputs": [],
   "source": [
    "import os\n",
    "import pandas as pd\n",
    "import shutil\n",
    "\n",
    "source_directory = \"AReM\"  # Update this with the actual path\n",
    "target_directory = \"AReM_Split\"  # The directory to save train/test sets\n",
    "os.makedirs(os.path.join(target_directory, \"train\"), exist_ok=True)\n",
    "os.makedirs(os.path.join(target_directory, \"test\"), exist_ok=True)\n",
    "\n",
    "for activity in os.listdir(source_directory):\n",
    "    activity_path = os.path.join(source_directory, activity)\n",
    "    if not os.path.isdir(activity_path):\n",
    "        continue\n",
    "    \n",
    "    files = sorted([f for f in os.listdir(activity_path) if f.startswith(\"dataset\") and f.endswith(\".csv\")])\n",
    "    \n",
    "    test_files = files[:3] if \"bending\" not in activity else files[:2]\n",
    "    train_files = files[len(test_files):]\n",
    "    \n",
    "    # Copy test files\n",
    "    for file in test_files:\n",
    "        df = pd.read_csv(os.path.join(activity_path, file))\n",
    "        df = df.dropna()  # Remove empty rows if any\n",
    "        df.columns = df.columns.str.strip()  # Strip whitespace from column names\n",
    "        df.to_csv(os.path.join(target_directory, \"test\", f\"{activity}_{file}\"), index=False)\n",
    "    \n",
    "    # Copy train files\n",
    "    for file in train_files:\n",
    "        df = pd.read_csv(os.path.join(activity_path, file))\n",
    "        df = df.dropna()  # Remove empty rows if any\n",
    "        df.columns = df.columns.str.strip()  # Strip whitespace from column names\n",
    "        df.to_csv(os.path.join(target_directory, \"train\", f\"{activity}_{file}\"), index=False)\n",
    "\n",
    "print(\"Data split completed!\")\n"
   ]
  }
 ],
 "metadata": {
  "kernelspec": {
   "display_name": "Python 3 (ipykernel)",
   "language": "python",
   "name": "python3"
  },
  "language_info": {
   "codemirror_mode": {
    "name": "ipython",
    "version": 3
   },
   "file_extension": ".py",
   "mimetype": "text/x-python",
   "name": "python",
   "nbconvert_exporter": "python",
   "pygments_lexer": "ipython3",
   "version": "3.12.3"
  },
  "toc": {
   "base_numbering": 1,
   "nav_menu": {},
   "number_sections": true,
   "sideBar": true,
   "skip_h1_title": false,
   "title_cell": "Table of Contents",
   "title_sidebar": "Contents",
   "toc_cell": false,
   "toc_position": {},
   "toc_section_display": true,
   "toc_window_display": false
  },
  "varInspector": {
   "cols": {
    "lenName": 16,
    "lenType": 16,
    "lenVar": 40
   },
   "kernels_config": {
    "python": {
     "delete_cmd_postfix": "",
     "delete_cmd_prefix": "del ",
     "library": "var_list.py",
     "varRefreshCmd": "print(var_dic_list())"
    },
    "r": {
     "delete_cmd_postfix": ") ",
     "delete_cmd_prefix": "rm(",
     "library": "var_list.r",
     "varRefreshCmd": "cat(var_dic_list()) "
    }
   },
   "types_to_exclude": [
    "module",
    "function",
    "builtin_function_or_method",
    "instance",
    "_Feature"
   ],
   "window_display": false
  }
 },
 "nbformat": 4,
 "nbformat_minor": 5
}
